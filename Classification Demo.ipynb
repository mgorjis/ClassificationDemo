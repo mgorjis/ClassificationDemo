{
 "cells": [
  {
   "cell_type": "code",
   "execution_count": 1,
   "metadata": {},
   "outputs": [],
   "source": [
    "%reload_ext autoreload\n",
    "%autoreload 2\n",
    "\n",
    "\n",
    "import numpy as np\n",
    "import pandas as pd\n",
    "pd.options.display.max_columns = None\n",
    "import matplotlib.pyplot as plt\n",
    "%matplotlib inline\n",
    "plt.rcParams[\"figure.figsize\"] = [16/1.5,9/1.5]\n",
    "\n",
    "from sklearn.model_selection import train_test_split\n",
    "from sklearn.linear_model import LogisticRegression, LogisticRegressionCV\n",
    "\n",
    "\n",
    "\n",
    "from sklearn.preprocessing import StandardScaler\n",
    "from sklearn.model_selection import train_test_split\n",
    "from sklearn.metrics import precision_score, recall_score, accuracy_score, f1_score, confusion_matrix, classification_report,\\\n",
    "                            precision_recall_fscore_support,roc_curve, auc ,log_loss, roc_auc_score\n",
    "\n",
    "\n",
    "from Classification_tools import gain_plot, roc_plot, ks_plot, ks_chart, show_metrics,logit_model, TableLog,lift_plot\n",
    "\n",
    "from GoodmanKruskal import GKtauDataframe, display_correlation"
   ]
  },
  {
   "cell_type": "markdown",
   "metadata": {},
   "source": [
    "Load the data and target\n",
    "\n",
    "\n",
    "Churn data is a sample data used multiple times in IBM cloudpak demos"
   ]
  },
  {
   "cell_type": "code",
   "execution_count": 2,
   "metadata": {},
   "outputs": [],
   "source": [
    "Target = pd.read_csv(\"churn.csv\")\n",
    "Data = pd.read_csv(\"customer.csv\")\n",
    "\n",
    "del Target['ID']\n",
    "del Data['ID']"
   ]
  },
  {
   "cell_type": "code",
   "execution_count": 3,
   "metadata": {},
   "outputs": [
    {
     "data": {
      "text/html": [
       "<div>\n",
       "<style scoped>\n",
       "    .dataframe tbody tr th:only-of-type {\n",
       "        vertical-align: middle;\n",
       "    }\n",
       "\n",
       "    .dataframe tbody tr th {\n",
       "        vertical-align: top;\n",
       "    }\n",
       "\n",
       "    .dataframe thead th {\n",
       "        text-align: right;\n",
       "    }\n",
       "</style>\n",
       "<table border=\"1\" class=\"dataframe\">\n",
       "  <thead>\n",
       "    <tr style=\"text-align: right;\">\n",
       "      <th></th>\n",
       "      <th>Gender</th>\n",
       "      <th>Status</th>\n",
       "      <th>Children</th>\n",
       "      <th>EstIncome</th>\n",
       "      <th>CarOwner</th>\n",
       "      <th>Age</th>\n",
       "      <th>LongDistance</th>\n",
       "      <th>International</th>\n",
       "      <th>Local</th>\n",
       "      <th>Dropped</th>\n",
       "      <th>Paymethod</th>\n",
       "      <th>LocalBilltype</th>\n",
       "      <th>LongDistanceBilltype</th>\n",
       "      <th>Usage</th>\n",
       "      <th>RatePlan</th>\n",
       "    </tr>\n",
       "  </thead>\n",
       "  <tbody>\n",
       "    <tr>\n",
       "      <th>0</th>\n",
       "      <td>F</td>\n",
       "      <td>S</td>\n",
       "      <td>1</td>\n",
       "      <td>38000.00</td>\n",
       "      <td>N</td>\n",
       "      <td>24.393333</td>\n",
       "      <td>23.56</td>\n",
       "      <td>0.0</td>\n",
       "      <td>206.08</td>\n",
       "      <td>0</td>\n",
       "      <td>CC</td>\n",
       "      <td>Budget</td>\n",
       "      <td>Intnl_discount</td>\n",
       "      <td>229.64</td>\n",
       "      <td>3</td>\n",
       "    </tr>\n",
       "    <tr>\n",
       "      <th>1</th>\n",
       "      <td>M</td>\n",
       "      <td>M</td>\n",
       "      <td>2</td>\n",
       "      <td>29616.00</td>\n",
       "      <td>N</td>\n",
       "      <td>49.426667</td>\n",
       "      <td>29.78</td>\n",
       "      <td>0.0</td>\n",
       "      <td>45.50</td>\n",
       "      <td>0</td>\n",
       "      <td>CH</td>\n",
       "      <td>FreeLocal</td>\n",
       "      <td>Standard</td>\n",
       "      <td>75.29</td>\n",
       "      <td>2</td>\n",
       "    </tr>\n",
       "    <tr>\n",
       "      <th>2</th>\n",
       "      <td>M</td>\n",
       "      <td>M</td>\n",
       "      <td>0</td>\n",
       "      <td>19732.80</td>\n",
       "      <td>N</td>\n",
       "      <td>50.673333</td>\n",
       "      <td>24.81</td>\n",
       "      <td>0.0</td>\n",
       "      <td>22.44</td>\n",
       "      <td>0</td>\n",
       "      <td>CC</td>\n",
       "      <td>FreeLocal</td>\n",
       "      <td>Standard</td>\n",
       "      <td>47.25</td>\n",
       "      <td>3</td>\n",
       "    </tr>\n",
       "    <tr>\n",
       "      <th>3</th>\n",
       "      <td>M</td>\n",
       "      <td>S</td>\n",
       "      <td>2</td>\n",
       "      <td>96.33</td>\n",
       "      <td>N</td>\n",
       "      <td>56.473333</td>\n",
       "      <td>26.13</td>\n",
       "      <td>0.0</td>\n",
       "      <td>32.88</td>\n",
       "      <td>1</td>\n",
       "      <td>CC</td>\n",
       "      <td>Budget</td>\n",
       "      <td>Standard</td>\n",
       "      <td>59.01</td>\n",
       "      <td>1</td>\n",
       "    </tr>\n",
       "    <tr>\n",
       "      <th>4</th>\n",
       "      <td>F</td>\n",
       "      <td>M</td>\n",
       "      <td>2</td>\n",
       "      <td>52004.80</td>\n",
       "      <td>N</td>\n",
       "      <td>25.140000</td>\n",
       "      <td>5.03</td>\n",
       "      <td>0.0</td>\n",
       "      <td>23.11</td>\n",
       "      <td>0</td>\n",
       "      <td>CH</td>\n",
       "      <td>Budget</td>\n",
       "      <td>Intnl_discount</td>\n",
       "      <td>28.14</td>\n",
       "      <td>1</td>\n",
       "    </tr>\n",
       "  </tbody>\n",
       "</table>\n",
       "</div>"
      ],
      "text/plain": [
       "  Gender Status  Children  EstIncome CarOwner        Age  LongDistance  \\\n",
       "0      F      S         1   38000.00        N  24.393333         23.56   \n",
       "1      M      M         2   29616.00        N  49.426667         29.78   \n",
       "2      M      M         0   19732.80        N  50.673333         24.81   \n",
       "3      M      S         2      96.33        N  56.473333         26.13   \n",
       "4      F      M         2   52004.80        N  25.140000          5.03   \n",
       "\n",
       "   International   Local  Dropped Paymethod LocalBilltype  \\\n",
       "0            0.0  206.08        0        CC        Budget   \n",
       "1            0.0   45.50        0        CH     FreeLocal   \n",
       "2            0.0   22.44        0        CC     FreeLocal   \n",
       "3            0.0   32.88        1        CC        Budget   \n",
       "4            0.0   23.11        0        CH        Budget   \n",
       "\n",
       "  LongDistanceBilltype   Usage  RatePlan  \n",
       "0       Intnl_discount  229.64         3  \n",
       "1             Standard   75.29         2  \n",
       "2             Standard   47.25         3  \n",
       "3             Standard   59.01         1  \n",
       "4       Intnl_discount   28.14         1  "
      ]
     },
     "execution_count": 3,
     "metadata": {},
     "output_type": "execute_result"
    }
   ],
   "source": [
    "Data.head()"
   ]
  },
  {
   "cell_type": "code",
   "execution_count": 4,
   "metadata": {},
   "outputs": [
    {
     "data": {
      "text/plain": [
       "((2066, 15), (2066, 1))"
      ]
     },
     "execution_count": 4,
     "metadata": {},
     "output_type": "execute_result"
    }
   ],
   "source": [
    "Data.shape, Target.shape"
   ]
  },
  {
   "cell_type": "markdown",
   "metadata": {},
   "source": [
    "# Correlation Analysis"
   ]
  },
  {
   "cell_type": "code",
   "execution_count": 5,
   "metadata": {},
   "outputs": [],
   "source": [
    "categorical_features_names = Data.dtypes[Data.dtypes == 'O'].index\n",
    "numerical_features_names = Data.dtypes[Data.dtypes == 'float64'].index"
   ]
  },
  {
   "cell_type": "markdown",
   "metadata": {},
   "source": [
    "Calculate the pearson correlation between numerical features, to remove highly correlated features from the model"
   ]
  },
  {
   "cell_type": "code",
   "execution_count": 6,
   "metadata": {},
   "outputs": [
    {
     "data": {
      "text/html": [
       "<div>\n",
       "<style scoped>\n",
       "    .dataframe tbody tr th:only-of-type {\n",
       "        vertical-align: middle;\n",
       "    }\n",
       "\n",
       "    .dataframe tbody tr th {\n",
       "        vertical-align: top;\n",
       "    }\n",
       "\n",
       "    .dataframe thead th {\n",
       "        text-align: right;\n",
       "    }\n",
       "</style>\n",
       "<table border=\"1\" class=\"dataframe\">\n",
       "  <thead>\n",
       "    <tr style=\"text-align: right;\">\n",
       "      <th></th>\n",
       "      <th>x1</th>\n",
       "      <th>x2</th>\n",
       "      <th>correlation</th>\n",
       "    </tr>\n",
       "  </thead>\n",
       "  <tbody>\n",
       "    <tr>\n",
       "      <th>14</th>\n",
       "      <td>Local</td>\n",
       "      <td>Usage</td>\n",
       "      <td>0.988103</td>\n",
       "    </tr>\n",
       "    <tr>\n",
       "      <th>11</th>\n",
       "      <td>LongDistance</td>\n",
       "      <td>Usage</td>\n",
       "      <td>0.331149</td>\n",
       "    </tr>\n",
       "    <tr>\n",
       "      <th>10</th>\n",
       "      <td>LongDistance</td>\n",
       "      <td>Local</td>\n",
       "      <td>0.213171</td>\n",
       "    </tr>\n",
       "    <tr>\n",
       "      <th>0</th>\n",
       "      <td>EstIncome</td>\n",
       "      <td>Age</td>\n",
       "      <td>0.166682</td>\n",
       "    </tr>\n",
       "    <tr>\n",
       "      <th>6</th>\n",
       "      <td>Age</td>\n",
       "      <td>International</td>\n",
       "      <td>0.162794</td>\n",
       "    </tr>\n",
       "  </tbody>\n",
       "</table>\n",
       "</div>"
      ],
      "text/plain": [
       "              x1             x2  correlation\n",
       "14         Local          Usage     0.988103\n",
       "11  LongDistance          Usage     0.331149\n",
       "10  LongDistance          Local     0.213171\n",
       "0      EstIncome            Age     0.166682\n",
       "6            Age  International     0.162794"
      ]
     },
     "execution_count": 6,
     "metadata": {},
     "output_type": "execute_result"
    }
   ],
   "source": [
    "pearson_corr = abs(Data[numerical_features_names].corr())\n",
    "\n",
    "display_correlation(pearson_corr, upper=True).head(5)"
   ]
  },
  {
   "cell_type": "markdown",
   "metadata": {},
   "source": [
    "While people always use Pearson correlation between numerical features, it is usually neglected that some categorical features might also be correlated. One solution is using Goodman and Kruskal’s tau measure. More information here:\n",
    "\n",
    "https://cran.r-project.org/web/packages/GoodmanKruskal/vignettes/GoodmanKruskal.html"
   ]
  },
  {
   "cell_type": "code",
   "execution_count": 7,
   "metadata": {},
   "outputs": [
    {
     "data": {
      "text/html": [
       "<div>\n",
       "<style scoped>\n",
       "    .dataframe tbody tr th:only-of-type {\n",
       "        vertical-align: middle;\n",
       "    }\n",
       "\n",
       "    .dataframe tbody tr th {\n",
       "        vertical-align: top;\n",
       "    }\n",
       "\n",
       "    .dataframe thead th {\n",
       "        text-align: right;\n",
       "    }\n",
       "</style>\n",
       "<table border=\"1\" class=\"dataframe\">\n",
       "  <thead>\n",
       "    <tr style=\"text-align: right;\">\n",
       "      <th></th>\n",
       "      <th>x1</th>\n",
       "      <th>x2</th>\n",
       "      <th>correlation</th>\n",
       "    </tr>\n",
       "  </thead>\n",
       "  <tbody>\n",
       "    <tr>\n",
       "      <th>15</th>\n",
       "      <td>Paymethod</td>\n",
       "      <td>Gender</td>\n",
       "      <td>0.056590</td>\n",
       "    </tr>\n",
       "    <tr>\n",
       "      <th>16</th>\n",
       "      <td>Paymethod</td>\n",
       "      <td>Status</td>\n",
       "      <td>0.034032</td>\n",
       "    </tr>\n",
       "    <tr>\n",
       "      <th>2</th>\n",
       "      <td>Gender</td>\n",
       "      <td>Paymethod</td>\n",
       "      <td>0.032656</td>\n",
       "    </tr>\n",
       "    <tr>\n",
       "      <th>7</th>\n",
       "      <td>Status</td>\n",
       "      <td>Paymethod</td>\n",
       "      <td>0.017536</td>\n",
       "    </tr>\n",
       "    <tr>\n",
       "      <th>19</th>\n",
       "      <td>Paymethod</td>\n",
       "      <td>LongDistanceBilltype</td>\n",
       "      <td>0.013751</td>\n",
       "    </tr>\n",
       "  </tbody>\n",
       "</table>\n",
       "</div>"
      ],
      "text/plain": [
       "           x1                    x2  correlation\n",
       "15  Paymethod                Gender     0.056590\n",
       "16  Paymethod                Status     0.034032\n",
       "2      Gender             Paymethod     0.032656\n",
       "7      Status             Paymethod     0.017536\n",
       "19  Paymethod  LongDistanceBilltype     0.013751"
      ]
     },
     "execution_count": 7,
     "metadata": {},
     "output_type": "execute_result"
    }
   ],
   "source": [
    "GK_corr = GKtauDataframe(Data[categorical_features_names])\n",
    "display_correlation(GK_corr, upper=False).head(5)"
   ]
  },
  {
   "cell_type": "markdown",
   "metadata": {},
   "source": [
    "One numerical feature and no categorical features are removed due to high multicolinearity. "
   ]
  },
  {
   "cell_type": "code",
   "execution_count": 8,
   "metadata": {},
   "outputs": [],
   "source": [
    "del Data['Local']"
   ]
  },
  {
   "cell_type": "markdown",
   "metadata": {},
   "source": [
    "Data Transformation"
   ]
  },
  {
   "cell_type": "code",
   "execution_count": 9,
   "metadata": {},
   "outputs": [],
   "source": [
    "Target = Target.replace({'CHURN': {'T': True, 'F': False}})"
   ]
  },
  {
   "cell_type": "code",
   "execution_count": 10,
   "metadata": {},
   "outputs": [],
   "source": [
    "df = pd.get_dummies(Data,columns=categorical_features_names,drop_first=True)"
   ]
  },
  {
   "cell_type": "markdown",
   "metadata": {},
   "source": [
    "Build the logistic regression model"
   ]
  },
  {
   "cell_type": "code",
   "execution_count": 11,
   "metadata": {},
   "outputs": [],
   "source": [
    "y = Target['CHURN'].values\n",
    "X = df.values\n",
    "\n",
    "myscaler = StandardScaler()\n",
    "X_standardized = myscaler.fit_transform(X)"
   ]
  },
  {
   "cell_type": "code",
   "execution_count": 12,
   "metadata": {},
   "outputs": [],
   "source": [
    "X_train, X_test, y_train, y_test = train_test_split(X_standardized, y , train_size=0.80)"
   ]
  },
  {
   "cell_type": "code",
   "execution_count": 13,
   "metadata": {},
   "outputs": [],
   "source": [
    "model = LogisticRegression(C=10**6,verbose = 0, fit_intercept=True, class_weight=\"balanced\")\n",
    "\n",
    "model.fit(X_train,y_train);"
   ]
  },
  {
   "cell_type": "markdown",
   "metadata": {},
   "source": [
    "check the auc on train and test data to make sure the model is valid"
   ]
  },
  {
   "cell_type": "code",
   "execution_count": 14,
   "metadata": {},
   "outputs": [
    {
     "name": "stdout",
     "output_type": "stream",
     "text": [
      "0.82\n",
      "0.79\n"
     ]
    }
   ],
   "source": [
    "print(roc_auc_score(y_train, model.predict_proba(X_train)[:,1]).round(2))\n",
    "print(roc_auc_score(y_test, model.predict_proba(X_test)[:,1]).round(2))"
   ]
  },
  {
   "cell_type": "markdown",
   "metadata": {},
   "source": [
    "To check whether the classifier output is affected by changes in the training data, ROC for training and validation data are represented. "
   ]
  },
  {
   "cell_type": "code",
   "execution_count": 15,
   "metadata": {},
   "outputs": [
    {
     "data": {
      "image/png": "[encoded data removed]",
      "text/plain": [
       "<Figure size 432x288 with 1 Axes>"
      ]
     },
     "metadata": {
      "needs_background": "light"
     },
     "output_type": "display_data"
    }
   ],
   "source": [
    "proba_train = model.predict_proba(X_train)[:,1]\n",
    "proba_test = model.predict_proba(X_test)[:,1]\n",
    "\n",
    "roc_plot(proba_train, y_train, 'Training')\n",
    "roc_plot(proba_test, y_test, 'Testing')"
   ]
  },
  {
   "cell_type": "markdown",
   "metadata": {},
   "source": [
    "The k-s , cumulative gains and lift charts are based on the combined training and testing samples. \n",
    "\n",
    "so, calculated the probabilities for all the samples:"
   ]
  },
  {
   "cell_type": "code",
   "execution_count": 16,
   "metadata": {},
   "outputs": [],
   "source": [
    "proba_all = model.predict_proba(X_standardized)[:,1]\n"
   ]
  },
  {
   "cell_type": "markdown",
   "metadata": {},
   "source": [
    "# Kolmogorov-Smirnov Table"
   ]
  },
  {
   "cell_type": "markdown",
   "metadata": {},
   "source": [
    "it compares the cumulative distribution of events and non-events and the KS is where there is a maximum difference between the two distributions. In simple words, it helps us to understand how well our predictive model is able to discriminate between events and non-events.\n",
    "\n",
    "Here, predicted probability are divided into 10 parts where first decile should contain highest probability score. Then,  the cumulative percentage  of events and non-events (success / failure) in each decile are calculated and then the difference between these two cumulative distribution are computed. \n",
    "\n",
    "If the max K-S is in top deciles and the difference value is larger, the model is considered a better model. \n",
    "\n",
    "For example it shows that if the marketing campaign target the top four deciles, the model can cover 66.468% of the responders (4th row of table below)."
   ]
  },
  {
   "cell_type": "code",
   "execution_count": 17,
   "metadata": {},
   "outputs": [
    {
     "data": {
      "text/html": [
       "<div>\n",
       "<style scoped>\n",
       "    .dataframe tbody tr th:only-of-type {\n",
       "        vertical-align: middle;\n",
       "    }\n",
       "\n",
       "    .dataframe tbody tr th {\n",
       "        vertical-align: top;\n",
       "    }\n",
       "\n",
       "    .dataframe thead th {\n",
       "        text-align: right;\n",
       "    }\n",
       "</style>\n",
       "<table border=\"1\" class=\"dataframe\">\n",
       "  <thead>\n",
       "    <tr style=\"text-align: right;\">\n",
       "      <th></th>\n",
       "      <th>Decile</th>\n",
       "      <th>Probabilty Ranges</th>\n",
       "      <th>Record Count</th>\n",
       "      <th>Target</th>\n",
       "      <th>NonTarget</th>\n",
       "      <th>% Targets</th>\n",
       "      <th>% NonTargets</th>\n",
       "      <th>% Target Cum</th>\n",
       "      <th>% NonTarget Cum</th>\n",
       "      <th>K-S</th>\n",
       "      <th>Max K-S</th>\n",
       "    </tr>\n",
       "  </thead>\n",
       "  <tbody>\n",
       "    <tr>\n",
       "      <th>9</th>\n",
       "      <td>1</td>\n",
       "      <td>[0.86, 0.982]</td>\n",
       "      <td>207</td>\n",
       "      <td>180</td>\n",
       "      <td>27</td>\n",
       "      <td>21.403</td>\n",
       "      <td>2.204</td>\n",
       "      <td>21.403</td>\n",
       "      <td>2.204</td>\n",
       "      <td>19.199</td>\n",
       "      <td></td>\n",
       "    </tr>\n",
       "    <tr>\n",
       "      <th>8</th>\n",
       "      <td>2</td>\n",
       "      <td>[0.767, 0.86]</td>\n",
       "      <td>206</td>\n",
       "      <td>127</td>\n",
       "      <td>79</td>\n",
       "      <td>15.101</td>\n",
       "      <td>6.449</td>\n",
       "      <td>36.504</td>\n",
       "      <td>8.653</td>\n",
       "      <td>27.851</td>\n",
       "      <td></td>\n",
       "    </tr>\n",
       "    <tr>\n",
       "      <th>7</th>\n",
       "      <td>3</td>\n",
       "      <td>[0.675, 0.767]</td>\n",
       "      <td>206</td>\n",
       "      <td>134</td>\n",
       "      <td>72</td>\n",
       "      <td>15.933</td>\n",
       "      <td>5.878</td>\n",
       "      <td>52.438</td>\n",
       "      <td>14.531</td>\n",
       "      <td>37.907</td>\n",
       "      <td></td>\n",
       "    </tr>\n",
       "    <tr>\n",
       "      <th>6</th>\n",
       "      <td>4</td>\n",
       "      <td>[0.569, 0.675]</td>\n",
       "      <td>205</td>\n",
       "      <td>126</td>\n",
       "      <td>79</td>\n",
       "      <td>14.982</td>\n",
       "      <td>6.449</td>\n",
       "      <td>67.420</td>\n",
       "      <td>20.980</td>\n",
       "      <td>46.440</td>\n",
       "      <td></td>\n",
       "    </tr>\n",
       "    <tr>\n",
       "      <th>5</th>\n",
       "      <td>5</td>\n",
       "      <td>[0.446, 0.569]</td>\n",
       "      <td>209</td>\n",
       "      <td>120</td>\n",
       "      <td>89</td>\n",
       "      <td>14.269</td>\n",
       "      <td>7.265</td>\n",
       "      <td>81.688</td>\n",
       "      <td>28.245</td>\n",
       "      <td>53.444</td>\n",
       "      <td>&lt;----</td>\n",
       "    </tr>\n",
       "    <tr>\n",
       "      <th>4</th>\n",
       "      <td>6</td>\n",
       "      <td>[0.356, 0.446]</td>\n",
       "      <td>206</td>\n",
       "      <td>72</td>\n",
       "      <td>134</td>\n",
       "      <td>8.561</td>\n",
       "      <td>10.939</td>\n",
       "      <td>90.250</td>\n",
       "      <td>39.184</td>\n",
       "      <td>51.066</td>\n",
       "      <td></td>\n",
       "    </tr>\n",
       "    <tr>\n",
       "      <th>3</th>\n",
       "      <td>7</td>\n",
       "      <td>[0.259, 0.356]</td>\n",
       "      <td>207</td>\n",
       "      <td>28</td>\n",
       "      <td>179</td>\n",
       "      <td>3.329</td>\n",
       "      <td>14.612</td>\n",
       "      <td>93.579</td>\n",
       "      <td>53.796</td>\n",
       "      <td>39.783</td>\n",
       "      <td></td>\n",
       "    </tr>\n",
       "    <tr>\n",
       "      <th>2</th>\n",
       "      <td>8</td>\n",
       "      <td>[0.17, 0.259]</td>\n",
       "      <td>205</td>\n",
       "      <td>15</td>\n",
       "      <td>190</td>\n",
       "      <td>1.784</td>\n",
       "      <td>15.510</td>\n",
       "      <td>95.363</td>\n",
       "      <td>69.306</td>\n",
       "      <td>26.057</td>\n",
       "      <td></td>\n",
       "    </tr>\n",
       "    <tr>\n",
       "      <th>1</th>\n",
       "      <td>9</td>\n",
       "      <td>[0.106, 0.17]</td>\n",
       "      <td>207</td>\n",
       "      <td>16</td>\n",
       "      <td>191</td>\n",
       "      <td>1.902</td>\n",
       "      <td>15.592</td>\n",
       "      <td>97.265</td>\n",
       "      <td>84.898</td>\n",
       "      <td>12.367</td>\n",
       "      <td></td>\n",
       "    </tr>\n",
       "    <tr>\n",
       "      <th>0</th>\n",
       "      <td>10</td>\n",
       "      <td>[0.026, 0.106]</td>\n",
       "      <td>208</td>\n",
       "      <td>23</td>\n",
       "      <td>185</td>\n",
       "      <td>2.735</td>\n",
       "      <td>15.102</td>\n",
       "      <td>100.000</td>\n",
       "      <td>100.000</td>\n",
       "      <td>0.000</td>\n",
       "      <td></td>\n",
       "    </tr>\n",
       "  </tbody>\n",
       "</table>\n",
       "</div>"
      ],
      "text/plain": [
       "   Decile Probabilty Ranges  Record Count  Target  NonTarget  % Targets  \\\n",
       "9       1     [0.86, 0.982]           207     180         27     21.403   \n",
       "8       2     [0.767, 0.86]           206     127         79     15.101   \n",
       "7       3    [0.675, 0.767]           206     134         72     15.933   \n",
       "6       4    [0.569, 0.675]           205     126         79     14.982   \n",
       "5       5    [0.446, 0.569]           209     120         89     14.269   \n",
       "4       6    [0.356, 0.446]           206      72        134      8.561   \n",
       "3       7    [0.259, 0.356]           207      28        179      3.329   \n",
       "2       8     [0.17, 0.259]           205      15        190      1.784   \n",
       "1       9     [0.106, 0.17]           207      16        191      1.902   \n",
       "0      10    [0.026, 0.106]           208      23        185      2.735   \n",
       "\n",
       "   % NonTargets  % Target Cum  % NonTarget Cum     K-S Max K-S  \n",
       "9         2.204        21.403            2.204  19.199          \n",
       "8         6.449        36.504            8.653  27.851          \n",
       "7         5.878        52.438           14.531  37.907          \n",
       "6         6.449        67.420           20.980  46.440          \n",
       "5         7.265        81.688           28.245  53.444   <----  \n",
       "4        10.939        90.250           39.184  51.066          \n",
       "3        14.612        93.579           53.796  39.783          \n",
       "2        15.510        95.363           69.306  26.057          \n",
       "1        15.592        97.265           84.898  12.367          \n",
       "0        15.102       100.000          100.000   0.000          "
      ]
     },
     "metadata": {},
     "output_type": "display_data"
    }
   ],
   "source": [
    "f= ks_chart(proba_all, y)\n",
    "\n",
    "display(ks_chart(proba_all, y))"
   ]
  },
  {
   "cell_type": "markdown",
   "metadata": {},
   "source": [
    "\n",
    "# Kolmogorov-Smirnov Plot"
   ]
  },
  {
   "cell_type": "markdown",
   "metadata": {},
   "source": [
    "It is similar to K-S table, but without splitting the probability scores to 10 deciles. \n",
    "\n",
    "1- sort the data by the prediction score,\n",
    "\n",
    "2 - for every cutoff point [0.0, 1.0] of the sorted dataset (depth), calculate the proportion of targets and non-targets in this depth,\n",
    "\n",
    "3- For each depth on x-axis, sketch targets/(all targets), nontarget/(all non-targets) on Y-axis. "
   ]
  },
  {
   "cell_type": "code",
   "execution_count": 18,
   "metadata": {},
   "outputs": [
    {
     "data": {
      "image/png": "[encoded data removed]",
      "text/plain": [
       "<Figure size 432x288 with 1 Axes>"
      ]
     },
     "metadata": {
      "needs_background": "light"
     },
     "output_type": "display_data"
    }
   ],
   "source": [
    "ks_plot(proba_all,y,'All the data')"
   ]
  },
  {
   "cell_type": "markdown",
   "metadata": {},
   "source": [
    "# ROC and Gain and Lift Charts¶\n"
   ]
  },
  {
   "cell_type": "markdown",
   "metadata": {},
   "source": [
    "Gain chart:\n",
    "\n",
    "Find how much you gain by using your model over a random model for a given fraction of top scored predictions.\n",
    "\n",
    "1-  order your predictions from highest to lowest \n",
    "\n",
    "2- for every percentile you calculate the fraction of true positive observations up to that percentile."
   ]
  },
  {
   "cell_type": "code",
   "execution_count": 19,
   "metadata": {},
   "outputs": [
    {
     "data": {
      "image/png": "[encoded data removed]",
      "text/plain": [
       "<Figure size 432x288 with 1 Axes>"
      ]
     },
     "metadata": {
      "needs_background": "light"
     },
     "output_type": "display_data"
    }
   ],
   "source": [
    "gain_plot(proba_all,y)"
   ]
  },
  {
   "cell_type": "markdown",
   "metadata": {},
   "source": [
    "Lift Chart:\n",
    "    \n",
    "1- order the predictions from highest to lowest\n",
    "\n",
    "2- for every percentile, we calculate the fraction of true positive observations up to that percentile for our model \n",
    "and for the random model,\n",
    "\n",
    "3- we calculate the ratio of those fractions and plot it.\n",
    "\n",
    "\n",
    "It tells you how much better your model is than a random model for the given percentile of top scored predictions."
   ]
  },
  {
   "cell_type": "code",
   "execution_count": 20,
   "metadata": {},
   "outputs": [
    {
     "data": {
      "image/png": "[encoded data removed]",
      "text/plain": [
       "<Figure size 432x288 with 1 Axes>"
      ]
     },
     "metadata": {
      "needs_background": "light"
     },
     "output_type": "display_data"
    }
   ],
   "source": [
    "lift_plot(proba_all,y)"
   ]
  },
  {
   "cell_type": "markdown",
   "metadata": {},
   "source": [
    "More information about these plots and charts see:\n",
    "\n",
    "https://www.ibm.com/support/knowledgecenter/en/SSLVMB_23.0.0/spss/tutorials/mlp_bankloan_outputtype_02.html\n",
    "\n",
    "https://towardsdatascience.com/how-to-determine-the-best-model-6b9c584d0db4\n",
    "    \n",
    "https://www.saedsayad.com/model_evaluation_c.htm  \n",
    "\n",
    "https://www.datavedas.com/model-evaluation-classification-models/\n"
   ]
  },
  {
   "cell_type": "markdown",
   "metadata": {},
   "source": [
    "# Quasi Elasticity per feature cut"
   ]
  },
  {
   "cell_type": "markdown",
   "metadata": {},
   "source": [
    "estimate the quasi elasticity using the \n",
    "\n",
    "\n",
    "$\\eta =\\frac {p' - p } { \\frac {x' - x}{x}}$\n",
    "\n",
    "\n",
    "It estimates how much percent point probability of success would change if the value of one predictor (\"variable\") changes in the amount of \"perturbation\". The range of \"variable\" is divided in \"L\" bin and for each bin, the average quasi-elasticity has been shown. "
   ]
  },
  {
   "cell_type": "code",
   "execution_count": 22,
   "metadata": {},
   "outputs": [],
   "source": [
    "X = df.values\n",
    "X_standardized = myscaler.transform(X)\n",
    "\n",
    "proba_original = model.predict_proba(X_standardized)[:,1]"
   ]
  },
  {
   "cell_type": "code",
   "execution_count": 23,
   "metadata": {},
   "outputs": [],
   "source": [
    "variable = \"EstIncome\"\n",
    "\n",
    "perturbation = 0.01\n",
    "\n",
    "L=50\n",
    "\n",
    "df_perturbed = df.copy()\n",
    "\n",
    "df_perturbed[variable] = df_perturbed [variable]* (1 + perturbation )"
   ]
  },
  {
   "cell_type": "code",
   "execution_count": 24,
   "metadata": {},
   "outputs": [],
   "source": [
    "dums_cols = list(df_perturbed.dtypes[df_perturbed.dtypes==object].index)\n",
    "df_perturbed = pd.get_dummies(df_perturbed,columns=dums_cols,drop_first=True)\n",
    "\n",
    "X_perturbed = df_perturbed.values\n",
    "X_perturbed_standardized = myscaler.transform(X_perturbed)\n",
    "\n",
    "proba_perturbed = model.predict_proba(X_perturbed_standardized)[:,1]"
   ]
  },
  {
   "cell_type": "code",
   "execution_count": 25,
   "metadata": {},
   "outputs": [],
   "source": [
    "#Estimate the probabilities on perturbed data\n",
    "Quasi_Elasticity = pd.DataFrame((proba_perturbed-proba_original)/perturbation)\n",
    "Quasi_Elasticity.columns = ['Quasi_Elasticity']"
   ]
  },
  {
   "cell_type": "code",
   "execution_count": 26,
   "metadata": {},
   "outputs": [],
   "source": [
    "Quasi_Elasticity = pd.concat ( [Quasi_Elasticity, pd.qcut(df[variable], L, duplicates = 'drop'), \n",
    "                 pd.qcut(df[variable],  L, labels =False ,duplicates = 'drop')],axis = 1) \n",
    "Quasi_Elasticity.columns = ['Quasi_Elasticity',variable+\"_cuts\",variable+\"_cut_number\"]"
   ]
  },
  {
   "cell_type": "code",
   "execution_count": 27,
   "metadata": {},
   "outputs": [],
   "source": [
    "plt.rcParams[\"figure.figsize\"] = [20,7]"
   ]
  },
  {
   "cell_type": "code",
   "execution_count": 28,
   "metadata": {
    "scrolled": true
   },
   "outputs": [
    {
     "data": {
      "image/png": "[encoded data removed]",
      "text/plain": [
       "<Figure size 1440x504 with 1 Axes>"
      ]
     },
     "metadata": {
      "needs_background": "light"
     },
     "output_type": "display_data"
    }
   ],
   "source": [
    "Quasi_Elasticity[['Quasi_Elasticity',variable+\"_cuts\"]].groupby(variable+\"_cuts\").sum().plot.bar(rot = 45);\n",
    "plt.ylabel('Quasi_Elasticity');\n"
   ]
  },
  {
   "cell_type": "markdown",
   "metadata": {},
   "source": [
    "The above graph shows that by increasing the income, the sensitivity to income increases. For example for the income of about 20K, 1% increase in income will decrease the churn probability by about point 4% (i.e 40% to 44%   NOT 40*(1+0.04)). "
   ]
  },
  {
   "cell_type": "code",
   "execution_count": null,
   "metadata": {},
   "outputs": [],
   "source": []
  },
  {
   "cell_type": "code",
   "execution_count": null,
   "metadata": {},
   "outputs": [],
   "source": []
  }
 ],
 "metadata": {
  "kernelspec": {
   "display_name": "Python 3",
   "language": "python",
   "name": "python3"
  },
  "language_info": {
   "codemirror_mode": {
    "name": "ipython",
    "version": 3
   },
   "file_extension": ".py",
   "mimetype": "text/x-python",
   "name": "python",
   "nbconvert_exporter": "python",
   "pygments_lexer": "ipython3",
   "version": "3.7.4"
  }
 },
 "nbformat": 4,
 "nbformat_minor": 2
}
